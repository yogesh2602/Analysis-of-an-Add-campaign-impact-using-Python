{
 "cells": [
  {
   "cell_type": "markdown",
   "metadata": {},
   "source": [
    "\n",
    "# Analysis of an Add Campaign in United Kingdom\n"
   ]
  },
  {
   "cell_type": "markdown",
   "metadata": {},
   "source": [
    "####  The objective of this notebook is to analyze CPC,COA and CTR metrics value from a statistical point of view.The analysis is driven by focusing on four issues :\n",
    "1. Wheter the average CTR for Draft campaign is about 5%  (One Sample T-Test) \n",
    "2. Whether the average CPC for the camapign is about 10%  (One Sample T-Test)\n",
    "3. Whether the proportion of Content Category:Articles, EmaiMarket,Infographics, Innovation,NewsLetter is equal (Chi-sq Goodness of Fit Test)\n",
    "\n",
    "\n"
   ]
  },
  {
   "cell_type": "markdown",
   "metadata": {},
   "source": [
    "Simple Descriptive Statistics techniques were used to tabluate results of this study.The data was analyzed using Pandas and Numpy libraries.The level of significance was set to 5%\n",
    "\n"
   ]
  },
  {
   "cell_type": "markdown",
   "metadata": {},
   "source": [
    "### <font color='green'> Loading the libraries"
   ]
  },
  {
   "cell_type": "code",
   "execution_count": 1,
   "metadata": {},
   "outputs": [],
   "source": [
    "import numpy as np\n",
    "import pandas as pd\n",
    "from scipy import stats\n",
    "import scipy as sp\n",
    "import matplotlib.pyplot as plt\n",
    "import seaborn as sns"
   ]
  },
  {
   "cell_type": "markdown",
   "metadata": {},
   "source": [
    "<font color='green'> Read the Csv File</font>"
   ]
  },
  {
   "cell_type": "code",
   "execution_count": 2,
   "metadata": {},
   "outputs": [],
   "source": [
    "df=pd.read_csv('C:/Users/Yogesh/Documents/Documents/Python Projects/DraftCampaign/DraftCampaign.csv')"
   ]
  },
  {
   "cell_type": "code",
   "execution_count": 3,
   "metadata": {},
   "outputs": [
    {
     "data": {
      "text/html": [
       "<div>\n",
       "<style scoped>\n",
       "    .dataframe tbody tr th:only-of-type {\n",
       "        vertical-align: middle;\n",
       "    }\n",
       "\n",
       "    .dataframe tbody tr th {\n",
       "        vertical-align: top;\n",
       "    }\n",
       "\n",
       "    .dataframe thead th {\n",
       "        text-align: right;\n",
       "    }\n",
       "</style>\n",
       "<table border=\"1\" class=\"dataframe\">\n",
       "  <thead>\n",
       "    <tr style=\"text-align: right;\">\n",
       "      <th></th>\n",
       "      <th>Campaign Name</th>\n",
       "      <th>Country</th>\n",
       "      <th>Content Category</th>\n",
       "      <th>CPC</th>\n",
       "      <th>Clicks</th>\n",
       "      <th>CTR</th>\n",
       "      <th>Media Cost</th>\n",
       "      <th>Impressions</th>\n",
       "    </tr>\n",
       "  </thead>\n",
       "  <tbody>\n",
       "    <tr>\n",
       "      <th>0</th>\n",
       "      <td>Draft campaign</td>\n",
       "      <td>United Kingdom</td>\n",
       "      <td>Innovation</td>\n",
       "      <td>1.46</td>\n",
       "      <td>1.88</td>\n",
       "      <td>8.60%</td>\n",
       "      <td>2.75</td>\n",
       "      <td>21</td>\n",
       "    </tr>\n",
       "    <tr>\n",
       "      <th>1</th>\n",
       "      <td>Draft campaign</td>\n",
       "      <td>United Kingdom</td>\n",
       "      <td>NewsLetters</td>\n",
       "      <td>0.58</td>\n",
       "      <td>5.58</td>\n",
       "      <td>7.80%</td>\n",
       "      <td>3.21</td>\n",
       "      <td>71</td>\n",
       "    </tr>\n",
       "    <tr>\n",
       "      <th>2</th>\n",
       "      <td>Draft campaign</td>\n",
       "      <td>United Kingdom</td>\n",
       "      <td>NewsLetters</td>\n",
       "      <td>0.62</td>\n",
       "      <td>0.07</td>\n",
       "      <td>0.30%</td>\n",
       "      <td>0.04</td>\n",
       "      <td>23</td>\n",
       "    </tr>\n",
       "    <tr>\n",
       "      <th>3</th>\n",
       "      <td>Draft campaign</td>\n",
       "      <td>United Kingdom</td>\n",
       "      <td>NewsLetters</td>\n",
       "      <td>0.50</td>\n",
       "      <td>2.45</td>\n",
       "      <td>10.10%</td>\n",
       "      <td>1.24</td>\n",
       "      <td>24</td>\n",
       "    </tr>\n",
       "    <tr>\n",
       "      <th>4</th>\n",
       "      <td>Draft campaign</td>\n",
       "      <td>United Kingdom</td>\n",
       "      <td>NewsLetters</td>\n",
       "      <td>1.53</td>\n",
       "      <td>15.30</td>\n",
       "      <td>8.20%</td>\n",
       "      <td>23.42</td>\n",
       "      <td>186</td>\n",
       "    </tr>\n",
       "  </tbody>\n",
       "</table>\n",
       "</div>"
      ],
      "text/plain": [
       "    Campaign Name         Country Content Category   CPC  Clicks     CTR  \\\n",
       "0  Draft campaign  United Kingdom       Innovation  1.46    1.88   8.60%   \n",
       "1  Draft campaign  United Kingdom      NewsLetters  0.58    5.58   7.80%   \n",
       "2  Draft campaign  United Kingdom      NewsLetters  0.62    0.07   0.30%   \n",
       "3  Draft campaign  United Kingdom      NewsLetters  0.50    2.45  10.10%   \n",
       "4  Draft campaign  United Kingdom      NewsLetters  1.53   15.30   8.20%   \n",
       "\n",
       "   Media Cost  Impressions  \n",
       "0        2.75           21  \n",
       "1        3.21           71  \n",
       "2        0.04           23  \n",
       "3        1.24           24  \n",
       "4       23.42          186  "
      ]
     },
     "execution_count": 3,
     "metadata": {},
     "output_type": "execute_result"
    }
   ],
   "source": [
    "df.head()"
   ]
  },
  {
   "cell_type": "markdown",
   "metadata": {},
   "source": [
    "<font color='green'> Dataset column and size info</font>"
   ]
  },
  {
   "cell_type": "code",
   "execution_count": 4,
   "metadata": {},
   "outputs": [
    {
     "name": "stdout",
     "output_type": "stream",
     "text": [
      "<class 'pandas.core.frame.DataFrame'>\n",
      "RangeIndex: 216 entries, 0 to 215\n",
      "Data columns (total 8 columns):\n",
      "Campaign Name       216 non-null object\n",
      "Country             216 non-null object\n",
      "Content Category    216 non-null object\n",
      " CPC                216 non-null float64\n",
      "Clicks              216 non-null float64\n",
      "CTR                 216 non-null object\n",
      "Media Cost          216 non-null float64\n",
      "Impressions         216 non-null int64\n",
      "dtypes: float64(3), int64(1), object(4)\n",
      "memory usage: 13.6+ KB\n"
     ]
    }
   ],
   "source": [
    "df.info()"
   ]
  },
  {
   "cell_type": "markdown",
   "metadata": {},
   "source": [
    "<font color='green'>Dataset High level Summary</font>"
   ]
  },
  {
   "cell_type": "code",
   "execution_count": 5,
   "metadata": {},
   "outputs": [
    {
     "data": {
      "text/html": [
       "<div>\n",
       "<style scoped>\n",
       "    .dataframe tbody tr th:only-of-type {\n",
       "        vertical-align: middle;\n",
       "    }\n",
       "\n",
       "    .dataframe tbody tr th {\n",
       "        vertical-align: top;\n",
       "    }\n",
       "\n",
       "    .dataframe thead th {\n",
       "        text-align: right;\n",
       "    }\n",
       "</style>\n",
       "<table border=\"1\" class=\"dataframe\">\n",
       "  <thead>\n",
       "    <tr style=\"text-align: right;\">\n",
       "      <th></th>\n",
       "      <th>CPC</th>\n",
       "      <th>Clicks</th>\n",
       "      <th>Media Cost</th>\n",
       "      <th>Impressions</th>\n",
       "    </tr>\n",
       "  </thead>\n",
       "  <tbody>\n",
       "    <tr>\n",
       "      <th>count</th>\n",
       "      <td>216.000000</td>\n",
       "      <td>216.000000</td>\n",
       "      <td>216.000000</td>\n",
       "      <td>216.000000</td>\n",
       "    </tr>\n",
       "    <tr>\n",
       "      <th>mean</th>\n",
       "      <td>2.553750</td>\n",
       "      <td>278.251620</td>\n",
       "      <td>905.277083</td>\n",
       "      <td>6403.787037</td>\n",
       "    </tr>\n",
       "    <tr>\n",
       "      <th>std</th>\n",
       "      <td>8.749214</td>\n",
       "      <td>885.478153</td>\n",
       "      <td>4041.519929</td>\n",
       "      <td>19451.694746</td>\n",
       "    </tr>\n",
       "    <tr>\n",
       "      <th>min</th>\n",
       "      <td>0.150000</td>\n",
       "      <td>0.050000</td>\n",
       "      <td>0.010000</td>\n",
       "      <td>20.000000</td>\n",
       "    </tr>\n",
       "    <tr>\n",
       "      <th>25%</th>\n",
       "      <td>0.550000</td>\n",
       "      <td>2.375000</td>\n",
       "      <td>2.260000</td>\n",
       "      <td>64.250000</td>\n",
       "    </tr>\n",
       "    <tr>\n",
       "      <th>50%</th>\n",
       "      <td>1.235000</td>\n",
       "      <td>11.605000</td>\n",
       "      <td>18.630000</td>\n",
       "      <td>225.000000</td>\n",
       "    </tr>\n",
       "    <tr>\n",
       "      <th>75%</th>\n",
       "      <td>2.500000</td>\n",
       "      <td>109.827500</td>\n",
       "      <td>164.715000</td>\n",
       "      <td>2510.750000</td>\n",
       "    </tr>\n",
       "    <tr>\n",
       "      <th>max</th>\n",
       "      <td>126.140000</td>\n",
       "      <td>7081.980000</td>\n",
       "      <td>33556.520000</td>\n",
       "      <td>131762.000000</td>\n",
       "    </tr>\n",
       "  </tbody>\n",
       "</table>\n",
       "</div>"
      ],
      "text/plain": [
       "              CPC       Clicks    Media Cost    Impressions\n",
       "count  216.000000   216.000000    216.000000     216.000000\n",
       "mean     2.553750   278.251620    905.277083    6403.787037\n",
       "std      8.749214   885.478153   4041.519929   19451.694746\n",
       "min      0.150000     0.050000      0.010000      20.000000\n",
       "25%      0.550000     2.375000      2.260000      64.250000\n",
       "50%      1.235000    11.605000     18.630000     225.000000\n",
       "75%      2.500000   109.827500    164.715000    2510.750000\n",
       "max    126.140000  7081.980000  33556.520000  131762.000000"
      ]
     },
     "execution_count": 5,
     "metadata": {},
     "output_type": "execute_result"
    }
   ],
   "source": [
    "df.describe()"
   ]
  },
  {
   "cell_type": "markdown",
   "metadata": {},
   "source": [
    "<font color='green'> Data Cleaning: Converting CTR variable from type object to float"
   ]
  },
  {
   "cell_type": "code",
   "execution_count": 6,
   "metadata": {},
   "outputs": [],
   "source": [
    "df['CTR']=df['CTR'].str.rstrip('%').astype('float')/100"
   ]
  },
  {
   "cell_type": "markdown",
   "metadata": {},
   "source": [
    "<font color='green'>EDA of CTR Variable <font/>"
   ]
  },
  {
   "cell_type": "code",
   "execution_count": 7,
   "metadata": {},
   "outputs": [
    {
     "data": {
      "text/plain": [
       "count    216.000000\n",
       "mean       0.047435\n",
       "std        0.023569\n",
       "min        0.002000\n",
       "25%        0.027750\n",
       "50%        0.048500\n",
       "75%        0.067000\n",
       "max        0.104000\n",
       "Name: CTR, dtype: float64"
      ]
     },
     "execution_count": 7,
     "metadata": {},
     "output_type": "execute_result"
    }
   ],
   "source": [
    "df['CTR'].describe()"
   ]
  },
  {
   "cell_type": "code",
   "execution_count": 8,
   "metadata": {},
   "outputs": [],
   "source": [
    "mean, std = np.mean(df['CTR']), np.std(df['CTR'])"
   ]
  },
  {
   "cell_type": "markdown",
   "metadata": {},
   "source": [
    "<font color='green'>Histogram plot of CTR variable</font>"
   ]
  },
  {
   "cell_type": "code",
   "execution_count": 9,
   "metadata": {
    "scrolled": true
   },
   "outputs": [
    {
     "data": {
      "text/plain": [
       "Text(0.5, 0, '')"
      ]
     },
     "execution_count": 9,
     "metadata": {},
     "output_type": "execute_result"
    },
    {
     "data": {
      "image/png": "[encoded data removed]",
      "text/plain": [
       "<Figure size 432x288 with 1 Axes>"
      ]
     },
     "metadata": {
      "needs_background": "light"
     },
     "output_type": "display_data"
    }
   ],
   "source": [
    "plt.hist(df['CTR'])\n",
    "plt.title('Distribution of CTR')\n",
    "plt.xlabel('')"
   ]
  },
  {
   "cell_type": "markdown",
   "metadata": {},
   "source": [
    "<font color='green'>Determining the 95% CI for Mean for variable CTR</font>"
   ]
  },
  {
   "cell_type": "code",
   "execution_count": 10,
   "metadata": {},
   "outputs": [],
   "source": [
    "mean,std=np.mean(df['CTR']), np.std(df['CTR'])\n",
    "N=np.sqrt(len(df['CTR']))\n",
    "conf_interval=stats.norm.interval(0.95, loc=mean, scale=std/N)"
   ]
  },
  {
   "cell_type": "code",
   "execution_count": 11,
   "metadata": {},
   "outputs": [
    {
     "data": {
      "text/plain": [
       "(0.04429937760087264, 0.05057099276949779)"
      ]
     },
     "execution_count": 11,
     "metadata": {},
     "output_type": "execute_result"
    }
   ],
   "source": [
    "conf_interval"
   ]
  },
  {
   "cell_type": "markdown",
   "metadata": {},
   "source": [
    "<font color='green'> We can see that in the above cell that Confidence Interval for CTR variable varies from 0.044 to 0.050 with a mean at 0.047, we can further run a hypothesis test to confirm if the results are true in the population</font>"
   ]
  },
  {
   "cell_type": "markdown",
   "metadata": {},
   "source": [
    "<font color='green'> Null Hypothesis: Average CTR=5%<br>\n",
    "Alternate Hypothesis : Average CTR <> 5% </font>"
   ]
  },
  {
   "cell_type": "code",
   "execution_count": 12,
   "metadata": {},
   "outputs": [
    {
     "data": {
      "text/plain": [
       "Ttest_1sampResult(statistic=-1.5993630297294528, pvalue=0.11120842580168598)"
      ]
     },
     "execution_count": 12,
     "metadata": {},
     "output_type": "execute_result"
    }
   ],
   "source": [
    "### One Sample T-test###\n",
    "stats.ttest_1samp(df['CTR'], 0.05)"
   ]
  },
  {
   "cell_type": "markdown",
   "metadata": {},
   "source": [
    "<font color='green'> Based on the p value(0.011)calculated above, we fail to reject the claim that Average CTR is 5%</font>"
   ]
  },
  {
   "cell_type": "markdown",
   "metadata": {},
   "source": [
    "<font color='green'>\n",
    "Lets do EDA for CPC Variable</font>\n"
   ]
  },
  {
   "cell_type": "code",
   "execution_count": 13,
   "metadata": {},
   "outputs": [],
   "source": [
    "### We have Spaces in the begining and End of some of the columns, hence strip those columns using str.strip()\n",
    "df.columns=df.columns.str.strip()"
   ]
  },
  {
   "cell_type": "code",
   "execution_count": 14,
   "metadata": {},
   "outputs": [
    {
     "data": {
      "text/plain": [
       "count    216.000000\n",
       "mean       2.553750\n",
       "std        8.749214\n",
       "min        0.150000\n",
       "25%        0.550000\n",
       "50%        1.235000\n",
       "75%        2.500000\n",
       "max      126.140000\n",
       "Name: CPC, dtype: float64"
      ]
     },
     "execution_count": 14,
     "metadata": {},
     "output_type": "execute_result"
    }
   ],
   "source": [
    "df['CPC'].describe()"
   ]
  },
  {
   "cell_type": "code",
   "execution_count": 15,
   "metadata": {},
   "outputs": [
    {
     "name": "stderr",
     "output_type": "stream",
     "text": [
      "C:\\Users\\Yogesh\\Anaconda3\\lib\\site-packages\\scipy\\stats\\stats.py:1713: FutureWarning: Using a non-tuple sequence for multidimensional indexing is deprecated; use `arr[tuple(seq)]` instead of `arr[seq]`. In the future this will be interpreted as an array index, `arr[np.array(seq)]`, which will result either in an error or a different result.\n",
      "  return np.add.reduce(sorted[indexer] * weights, axis=axis) / sumval\n"
     ]
    },
    {
     "data": {
      "text/plain": [
       "Text(0.5, 1.0, 'Normality Curve')"
      ]
     },
     "execution_count": 15,
     "metadata": {},
     "output_type": "execute_result"
    },
    {
     "data": {
      "image/png": "[encoded data removed]",
      "text/plain": [
       "<Figure size 432x288 with 1 Axes>"
      ]
     },
     "metadata": {
      "needs_background": "light"
     },
     "output_type": "display_data"
    }
   ],
   "source": [
    "sns.distplot(tuple(df['CPC']), hist=True, kde=True,\n",
    "             color = 'green', \n",
    "             hist_kws={'edgecolor':'yellow'},\n",
    "             kde_kws={'linewidth': 4})\n",
    "plt.title('Normality Curve')\n"
   ]
  },
  {
   "cell_type": "markdown",
   "metadata": {},
   "source": [
    "<font color='green'>The Distribution is rightly skewed, therefore data cannot be considered as Normal</font>"
   ]
  },
  {
   "cell_type": "markdown",
   "metadata": {},
   "source": [
    "<font color='green'> Q-Q Plot for normality test"
   ]
  },
  {
   "cell_type": "code",
   "execution_count": 16,
   "metadata": {},
   "outputs": [
    {
     "data": {
      "image/png": "[encoded data removed]",
      "text/plain": [
       "<Figure size 432x288 with 1 Axes>"
      ]
     },
     "metadata": {
      "needs_background": "light"
     },
     "output_type": "display_data"
    }
   ],
   "source": [
    "stats.probplot(df['CPC'],dist='norm',plot=plt)\n",
    "plt.title('Q-Q plot of CPC variable')\n",
    "plt.show()"
   ]
  },
  {
   "cell_type": "markdown",
   "metadata": {},
   "source": [
    "<font color='green'> Determining the 95% CI for Mean for variable CPC</font>"
   ]
  },
  {
   "cell_type": "code",
   "execution_count": 17,
   "metadata": {},
   "outputs": [],
   "source": [
    "mean=np.mean(df['CPC'])\n",
    "std=np.std(df['CPC'])\n",
    "N=np.sqrt(len(df['CPC']))\n",
    "conf_Interval_CPC=stats.norm.interval(0.95,mean,std/N)"
   ]
  },
  {
   "cell_type": "code",
   "execution_count": 18,
   "metadata": {},
   "outputs": [
    {
     "data": {
      "text/plain": [
       "(1.3896705240458032, 3.717829475954198)"
      ]
     },
     "execution_count": 18,
     "metadata": {},
     "output_type": "execute_result"
    }
   ],
   "source": [
    "conf_Interval_CPC"
   ]
  },
  {
   "cell_type": "markdown",
   "metadata": {},
   "source": [
    "<font color='green'> The mean for the variable CPC is 2.55 and the 95% Confidence Interval is between (1.38,3.71), it is very unlikely that the average CPC will be around 10%.\n",
    "\n",
    "We will still run a hypothesis test to confirm it</font>"
   ]
  },
  {
   "cell_type": "markdown",
   "metadata": {},
   "source": [
    "<font color='green'> Null Hyothesis: Average CPC=10% <br>\n",
    "    Alternate Hypothesis: Average CPC <> 10% </font>"
   ]
  },
  {
   "cell_type": "code",
   "execution_count": 19,
   "metadata": {},
   "outputs": [
    {
     "data": {
      "text/plain": [
       "Ttest_1sampResult(statistic=4.1218114925193134, pvalue=5.367367071859255e-05)"
      ]
     },
     "execution_count": 19,
     "metadata": {},
     "output_type": "execute_result"
    }
   ],
   "source": [
    "### One Sample Two Tailed T-test\n",
    "stats.ttest_1samp(df['CPC'],0.10)"
   ]
  },
  {
   "cell_type": "markdown",
   "metadata": {},
   "source": [
    "<font color='green'> Since our p value is less than <0.05, we reject the null hypothesis. Hence we can say that avaerge CPC value in the population dataset is not equal to 10% </font>"
   ]
  },
  {
   "cell_type": "code",
   "execution_count": 35,
   "metadata": {},
   "outputs": [],
   "source": [
    "Freq_count=list(df['Content Category'].value_counts()/len(df['Content Category']))"
   ]
  },
  {
   "cell_type": "code",
   "execution_count": 36,
   "metadata": {},
   "outputs": [
    {
     "data": {
      "text/plain": [
       "[0.3148148148148148,\n",
       " 0.27314814814814814,\n",
       " 0.20833333333333334,\n",
       " 0.1111111111111111,\n",
       " 0.09259259259259259]"
      ]
     },
     "execution_count": 36,
     "metadata": {},
     "output_type": "execute_result"
    }
   ],
   "source": [
    "Freq_count\n"
   ]
  },
  {
   "cell_type": "markdown",
   "metadata": {},
   "source": [
    "<font color='green'> Chi-sq goodness of fit test to verify the proportion of Content Category column in the population </font>"
   ]
  },
  {
   "cell_type": "markdown",
   "metadata": {},
   "source": [
    "<font color='green'> Chi-Sq Goodness of Test Hypothesis:<br>\n",
    "Null Hypotheses: Proportion of different category under Content Category are equal<br>\n",
    "Alternate Hypotheses: Null is not true </font>"
   ]
  },
  {
   "cell_type": "code",
   "execution_count": 41,
   "metadata": {},
   "outputs": [
    {
     "data": {
      "text/plain": [
       "Power_divergenceResult(statistic=98.01190200617285, pvalue=2.6061990968824545e-20)"
      ]
     },
     "execution_count": 41,
     "metadata": {},
     "output_type": "execute_result"
    }
   ],
   "source": [
    "stats.chisquare(Freq_count,[20,20,20,20,20])"
   ]
  },
  {
   "cell_type": "markdown",
   "metadata": {},
   "source": [
    "<font color='green'> Since our p value <0.005 we reject null hypotheses </font>"
   ]
  },
  {
   "cell_type": "markdown",
   "metadata": {},
   "source": [
    "<font color='green'> Based on the above findings we make the following conclusion.<br>\n",
    "1.\tThe average CTR for Awareness campaign is about 5% <br>\n",
    "2.\tThe average CPC for all campaign is not equal 0.10 and is not normally distributed <br>\n",
    "3.\tIn The content category, proportion of values are not equally distributed in the data <br>\n",
    "</font>"
   ]
  }
 ],
 "metadata": {
  "kernelspec": {
   "display_name": "Python 3",
   "language": "python",
   "name": "python3"
  },
  "language_info": {
   "codemirror_mode": {
    "name": "ipython",
    "version": 3
   },
   "file_extension": ".py",
   "mimetype": "text/x-python",
   "name": "python",
   "nbconvert_exporter": "python",
   "pygments_lexer": "ipython3",
   "version": "3.7.0"
  }
 },
 "nbformat": 4,
 "nbformat_minor": 2
}
